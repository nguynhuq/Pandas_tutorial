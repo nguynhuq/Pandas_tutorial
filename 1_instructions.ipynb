{
 "cells": [
  {
   "cell_type": "markdown",
   "metadata": {},
   "source": [
    "# Python Pandas instructions"
   ]
  },
  {
   "cell_type": "markdown",
   "metadata": {},
   "source": [
    "One of the most popular data science libraries is Pandas. Developed by data scientists familiar with R and Python, it has grown to support a large community of scientists and analysts. It has many built-in features, such as the ability to read data from many sources, create large dataframes (or matrixes / tables) from these sources and compute aggregate analytics based on what questions you’d like to answer. It has some built-in visualizations which can be used to chart and graph your results as well as several export functions to turn your completed analysis into an Excel Spreadsheet."
   ]
  },
  {
   "cell_type": "markdown",
   "metadata": {},
   "source": [
    "## Read data from CSV file and take a look"
   ]
  },
  {
   "cell_type": "markdown",
   "metadata": {},
   "source": [
    "We create a pandas DataFrame by reading in a csv-file with the average global temperature for the years 1850 to 2016. If we look at the head of this DataFrame the notebook will render it as a nice-looking table."
   ]
  },
  {
   "cell_type": "code",
   "execution_count": 3,
   "metadata": {},
   "outputs": [
    {
     "data": {
      "text/html": [
       "<div>\n",
       "<style scoped>\n",
       "    .dataframe tbody tr th:only-of-type {\n",
       "        vertical-align: middle;\n",
       "    }\n",
       "\n",
       "    .dataframe tbody tr th {\n",
       "        vertical-align: top;\n",
       "    }\n",
       "\n",
       "    .dataframe thead th {\n",
       "        text-align: right;\n",
       "    }\n",
       "</style>\n",
       "<table border=\"1\" class=\"dataframe\">\n",
       "  <thead>\n",
       "    <tr style=\"text-align: right;\">\n",
       "      <th></th>\n",
       "      <th>year</th>\n",
       "      <th>difference_temp</th>\n",
       "      <th>scores</th>\n",
       "    </tr>\n",
       "  </thead>\n",
       "  <tbody>\n",
       "    <tr>\n",
       "      <th>0</th>\n",
       "      <td>1850</td>\n",
       "      <td>-0.402</td>\n",
       "      <td>0</td>\n",
       "    </tr>\n",
       "    <tr>\n",
       "      <th>1</th>\n",
       "      <td>1851</td>\n",
       "      <td>-0.315</td>\n",
       "      <td>1</td>\n",
       "    </tr>\n",
       "    <tr>\n",
       "      <th>2</th>\n",
       "      <td>1852</td>\n",
       "      <td>-0.345</td>\n",
       "      <td>2</td>\n",
       "    </tr>\n",
       "    <tr>\n",
       "      <th>3</th>\n",
       "      <td>1853</td>\n",
       "      <td>-0.368</td>\n",
       "      <td>3</td>\n",
       "    </tr>\n",
       "    <tr>\n",
       "      <th>4</th>\n",
       "      <td>1854</td>\n",
       "      <td>-0.321</td>\n",
       "      <td>4</td>\n",
       "    </tr>\n",
       "  </tbody>\n",
       "</table>\n",
       "</div>"
      ],
      "text/plain": [
       "   year  difference_temp  scores\n",
       "0  1850           -0.402       0\n",
       "1  1851           -0.315       1\n",
       "2  1852           -0.345       2\n",
       "3  1853           -0.368       3\n",
       "4  1854           -0.321       4"
      ]
     },
     "execution_count": 3,
     "metadata": {},
     "output_type": "execute_result"
    }
   ],
   "source": [
    "# Importing the pandas module\n",
    "import pandas as pd\n",
    "\n",
    "# Read the data of the temperature anomaly (difference) \n",
    "# from reference period of 1961–1990 from a csv file to Pandas DataFrame\n",
    "global_temp = pd.read_csv('./datasets/global_temperature.csv')\n",
    "\n",
    "#Take a look at the first datapoints\n",
    "global_temp.head()"
   ]
  },
  {
   "cell_type": "markdown",
   "metadata": {},
   "source": [
    "## Display plots inline "
   ]
  },
  {
   "cell_type": "markdown",
   "metadata": {},
   "source": [
    "Magic commands start with either % or %% and the command we need to nicely display plots inline is %matplotlib inline. With this magic in place, all plots created in code cells will automatically be displayed inline. "
   ]
  },
  {
   "cell_type": "code",
   "execution_count": 4,
   "metadata": {},
   "outputs": [
    {
     "data": {
      "text/plain": [
       "Text(0,0.5,u'Difference Temperature')"
      ]
     },
     "execution_count": 4,
     "metadata": {},
     "output_type": "execute_result"
    },
    {
     "data": {
      "image/png": "[encoded data removed]",
      "text/plain": [
       "<matplotlib.figure.Figure at 0x7fe9f6c3d410>"
      ]
     },
     "metadata": {},
     "output_type": "display_data"
    }
   ],
   "source": [
    "# Setting up inline plotting using jupyter notebook \"magic\"\n",
    "%matplotlib inline\n",
    "\n",
    "import matplotlib.pyplot as plt\n",
    "\n",
    "# Plotting global temperature by year\n",
    "plt.plot(global_temp['year'], global_temp['difference_temp'])\n",
    "\n",
    "# Add some nice labels\n",
    "plt.xlabel('Year')\n",
    "plt.ylabel('Difference Temperature')"
   ]
  },
  {
   "cell_type": "code",
   "execution_count": 11,
   "metadata": {},
   "outputs": [
    {
     "data": {
      "image/png": "[encoded data removed]",
      "text/plain": [
       "<matplotlib.figure.Figure at 0x7fe9f45430d0>"
      ]
     },
     "metadata": {},
     "output_type": "display_data"
    },
    {
     "data": {
      "image/png": "[encoded data removed]",
      "text/plain": [
       "<matplotlib.figure.Figure at 0x7fe9f48ad650>"
      ]
     },
     "metadata": {},
     "output_type": "display_data"
    },
    {
     "data": {
      "image/png": "[encoded data removed]",
      "text/plain": [
       "<matplotlib.figure.Figure at 0x7fe9f472bc10>"
      ]
     },
     "metadata": {},
     "output_type": "display_data"
    },
    {
     "data": {
      "image/png": "[encoded data removed]",
      "text/plain": [
       "<matplotlib.figure.Figure at 0x7fe9f43fe590>"
      ]
     },
     "metadata": {},
     "output_type": "display_data"
    }
   ],
   "source": [
    "# Plot all columns (default)\n",
    "global_temp.plot(x='year', y=['difference_temp'])\n",
    "plt.show()\n",
    "\n",
    "# Plot all columns as subplots\n",
    "global_temp[['difference_temp', 'scores']].plot(subplots=True)\n",
    "plt.show()\n",
    "\n",
    "# Plot just the difference_temp data\n",
    "global_temp[['difference_temp']].plot()\n",
    "plt.show()\n",
    "\n",
    "# Plot the difference_temp and scores data, but not the year data\n",
    "global_temp[['difference_temp','scores']].plot()\n",
    "plt.show()"
   ]
  },
  {
   "cell_type": "markdown",
   "metadata": {},
   "source": [
    "## Interactive map"
   ]
  },
  {
   "cell_type": "markdown",
   "metadata": {},
   "source": [
    "Jupyter notebooks can render many more types of outputs such as sound, animation, video, etc. Yes, almost anything that can be shown in a modern web browser. This also makes it possible to include interactive widgets directly in the notebook!\n",
    "\n",
    "For example, this (slightly complicated) code will create an interactive map showing the locations of the three largest smartphone companies in 2016. You can move and zoom the map, and you can click the markers for more info! "
   ]
  },
  {
   "cell_type": "code",
   "execution_count": 4,
   "metadata": {},
   "outputs": [
    {
     "data": {
      "text/html": [
       "<div style=\"width:100%;\"><div style=\"position:relative;width:100%;height:0;padding-bottom:60%;\"><iframe src=\"data:text/html;charset=utf-8;base64,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\" style=\"position:absolute;width:100%;height:100%;left:0;top:0;border:none !important;\" allowfullscreen webkitallowfullscreen mozallowfullscreen></iframe></div></div>"
      ],
      "text/plain": [
       "<folium.folium.Map at 0x7f6c5827f690>"
      ]
     },
     "execution_count": 4,
     "metadata": {},
     "output_type": "execute_result"
    }
   ],
   "source": [
    "# Making a map using the folium module\n",
    "import folium\n",
    "phone_map = folium.Map()\n",
    "\n",
    "# Top three smart phone compagnies by market share in 2016\n",
    "companies = [\n",
    "    {'loc': [37.4970,  127.0266], 'label': 'Samsung: 50%'},\n",
    "    {'loc': [37.3318, -122.0311], 'label': 'Apple: 40%'},\n",
    "    {'loc': [22.5431, 114.0578], 'label': 'Huawei: 10%'}]\n",
    "\n",
    "# Adding marker to the map\n",
    "for company in companies:\n",
    "    marker = folium.Marker(location=company['loc'], popup=company['label'])\n",
    "    marker.add_to(phone_map)\n",
    "    \n",
    "# The last object in the cell always get shown in the notebook\n",
    "phone_map"
   ]
  },
  {
   "cell_type": "markdown",
   "metadata": {},
   "source": [
    "Reference: https://projects.datacamp.com/projects/33"
   ]
  },
  {
   "cell_type": "markdown",
   "metadata": {},
   "source": [
    "# Throwback 1: The beginning"
   ]
  },
  {
   "cell_type": "markdown",
   "metadata": {},
   "source": [
    "The data frame as a way to store data in rectangular grids that can easily be overviewed. A data frame’s rows do not need to contain, but can contain, the same type of values: they can be numeric, character, logical, etc.\n",
    "\n",
    "In general, you could say that the Pandas data frame consists of three main components: the data, the index, and the columns.\n",
    "\n",
    "1. Firstly, the DataFrame can contain data that is:\n",
    "    - a Pandas DataFrame: a 2-D labeled array\n",
    "    - a Pandas Series: a 1-D labeled array capable of holding any data type with axis labels or index. An example of a Series object is one column from a DataFrame.\n",
    "    - a Numpy ndarray, which can be a record or structured:\n",
    "        - structured array: manipulate the data by named fields\n",
    "        - record array: access fields of structured arrays by attribute rather than by index (expand the properties of structured arrays)\n",
    "    - a two-dimensional ndarray\n",
    "    - dictionaries of one-dimensional ndarrays, lists, dictionaries or Series.\n",
    "\n"
   ]
  },
  {
   "cell_type": "code",
   "execution_count": 3,
   "metadata": {},
   "outputs": [
    {
     "name": "stdout",
     "output_type": "stream",
     "text": [
      "[(1,  1.) (1,  1.) (1,  1.)]\n",
      "[1 1 1]\n",
      "[(1,  1.) (1,  1.) (1,  1.)]\n",
      "[1 1 1]\n"
     ]
    }
   ],
   "source": [
    "import numpy as np\n",
    "import pandas as pd\n",
    "\n",
    "# Example of a structured array\n",
    "structured_array = np.ones(3, dtype=([('foo', int), ('bar', float)]))\n",
    "print(structured_array)\n",
    "print(structured_array['foo'])\n",
    "\n",
    "# Example of a record array\n",
    "record_array = structured_array.view(np.recarray)\n",
    "print(record_array)\n",
    "print(record_array.foo)"
   ]
  },
  {
   "cell_type": "markdown",
   "metadata": {},
   "source": [
    "2.Secondly, a DataFrame needs to be specified the index and column names. The index, on the one hand, indicates the difference in rows, while the column names indicate the difference in columns.\n",
    "\n"
   ]
  },
  {
   "cell_type": "markdown",
   "metadata": {},
   "source": [
    "### Create a Pandas DataFrame"
   ]
  },
  {
   "cell_type": "markdown",
   "metadata": {},
   "source": [
    "To make a data frame from a NumPy array, you can just pass it to the DataFrame() function in the data argument."
   ]
  },
  {
   "cell_type": "code",
   "execution_count": 4,
   "metadata": {},
   "outputs": [
    {
     "name": "stdout",
     "output_type": "stream",
     "text": [
      "     Col1 Col2\n",
      "Row1    1    2\n",
      "Row2    3    4\n"
     ]
    }
   ],
   "source": [
    "# Create an 2D numpy array\n",
    "data = np.array([\n",
    "    ['', 'Col1', 'Col2'],\n",
    "    ['Row1', 1, 2],\n",
    "    ['Row2', 3, 4]\n",
    "])\n",
    "\n",
    "# Make a DataFrame from this array\n",
    "print(pd.DataFrame(data = data[1:,1:],\n",
    "                  index = data[1:,0],\n",
    "                  columns = data[0,1:]))"
   ]
  },
  {
   "cell_type": "code",
   "execution_count": 5,
   "metadata": {},
   "outputs": [
    {
     "name": "stdout",
     "output_type": "stream",
     "text": [
      "   A\n",
      "0  4\n",
      "1  5\n",
      "2  6\n",
      "3  7\n",
      "Belgium             Brussels\n",
      "India              New Delhi\n",
      "United Kingdom        London\n",
      "United States     Washington\n",
      "dtype: object\n",
      "Height of the serie: 4\n"
     ]
    }
   ],
   "source": [
    "# Create a DataFrame directly\n",
    "df = pd.DataFrame(data=[4,5,6,7], index=range(0,4), columns=['A'])\n",
    "print(df)\n",
    "\n",
    "# Create a Serie from two arrays as data and index\n",
    "series_1 = pd.Series(data=['Brussels', 'New Delhi', 'London','Washington'], index=['Belgium', 'India', 'United Kingdom', 'United States'])\n",
    "print(series_1)\n",
    "\n",
    "# Create a Serie from a dictionary\n",
    "series_2 = pd.Series({\"Belgium\":\"Brussels\", \"India\":\"New Delhi\", \"United Kingdom\":\"London\", \"United States\":\"Washington\"})\n",
    "\n",
    "# Get the information about the height of Series\n",
    "print('Height of the serie: %d' %len(series_2))"
   ]
  },
  {
   "cell_type": "markdown",
   "metadata": {},
   "source": [
    "You can use the \"shape\" property or the \"len()\" function in combination with the .index property:"
   ]
  },
  {
   "cell_type": "code",
   "execution_count": 6,
   "metadata": {},
   "outputs": [
    {
     "name": "stdout",
     "output_type": "stream",
     "text": [
      "   0  1  2\n",
      "0  1  2  3\n",
      "1  4  5  6\n",
      "('Shape of the dataframe', (2, 3))\n",
      "('Height of dataframe', 2)\n",
      "('Height of dataframe', 2)\n",
      "('Values of index', array([0, 1]))\n",
      "('Values of columns', [0, 1, 2])\n"
     ]
    }
   ],
   "source": [
    "df = pd.DataFrame(np.array([[1, 2, 3], [4, 5, 6]]))\n",
    "print(df)\n",
    "\n",
    "# Get the dimensions of the DataFrame\n",
    "print('Shape of the dataframe', df.shape)\n",
    "\n",
    "# Get the information on the height\n",
    "# len() used only for Series => need the property .index\n",
    "print('Height of dataframe', len(df.index))\n",
    "\n",
    "# Get the information on the height\n",
    "# df[0].count() will exclude the NaN value => not the better option\n",
    "print('Height of dataframe', df[0].count())\n",
    "\n",
    "# Get the value of DataFrame columns/index\n",
    "# Keep as nparray\n",
    "print('Values of index', df.index.values)\n",
    "# Or convert to list\n",
    "print('Values of columns', list(df.columns.values))"
   ]
  },
  {
   "cell_type": "markdown",
   "metadata": {},
   "source": [
    "### Fundamental DataFrame Operations"
   ]
  },
  {
   "cell_type": "markdown",
   "metadata": {},
   "source": [
    "#### How To Select an Index or Column From a Pandas DataFrame?"
   ]
  },
  {
   "cell_type": "markdown",
   "metadata": {},
   "source": [
    "- Selecting a value in DataFrame:\n",
    "       - loc[label of index] works on labels of your index\n",
    "       - iloc[position of index] works on the positions in your index\n",
    "       - ix[label of index] = loc[] if index is integer-based\n",
    "         ix[position of index] = iloc[] if index is not integer-based  "
   ]
  },
  {
   "cell_type": "code",
   "execution_count": 15,
   "metadata": {},
   "outputs": [
    {
     "name": "stdout",
     "output_type": "stream",
     "text": [
      "   A  B  C\n",
      "0  1  2  3\n",
      "1  4  5  6\n",
      "2  7  8  9\n",
      "1\n",
      "1\n",
      "1\n",
      "1\n",
      "1\n",
      "   48  49  50\n",
      "2   1   2   3\n",
      "A   4   5   6\n",
      "4   7   8   9\n",
      "48    1\n",
      "49    2\n",
      "50    3\n",
      "Name: 2, dtype: int64\n",
      "48    7\n",
      "49    8\n",
      "50    9\n",
      "Name: 4, dtype: int64\n",
      "48    7\n",
      "49    8\n",
      "50    9\n",
      "Name: 4, dtype: int64\n"
     ]
    },
    {
     "name": "stderr",
     "output_type": "stream",
     "text": [
      "/usr/local/lib/python2.7/dist-packages/ipykernel_launcher.py:15: FutureWarning: get_value is deprecated and will be removed in a future release. Please use .at[] or .iat[] accessors instead\n",
      "  from ipykernel import kernelapp as app\n",
      "/usr/local/lib/python2.7/dist-packages/ipykernel_launcher.py:28: DeprecationWarning: \n",
      ".ix is deprecated. Please use\n",
      ".loc for label based indexing or\n",
      ".iloc for positional indexing\n",
      "\n",
      "See the documentation here:\n",
      "http://pandas.pydata.org/pandas-docs/stable/indexing.html#ix-indexer-is-deprecated\n"
     ]
    }
   ],
   "source": [
    "# DataFrame with integer-based index\n",
    "df = pd.DataFrame(data=[[1,2,3], [4,5,6], [7,8,9]], columns=['A','B','C'])\n",
    "print(df)\n",
    "\n",
    "# Access the value that is at index 0, in column 'A'\n",
    "# the most important ones\n",
    "# using .iloc[number of index][number of column] or loc[number of index][label of column]\n",
    "print(df.iloc[0][0])\n",
    "print(df.loc[0]['A'])\n",
    "\n",
    "print(df.at[0,'A'])\n",
    "print(df.iat[0,0])\n",
    "\n",
    "# Removed in future release\n",
    "print(df.get_value(0, 'A'))\n",
    "\n",
    "# DataFrame with non-integer-based index\n",
    "df_2 = pd.DataFrame(data=np.array([[1,2,3],[4,5,6],[7,8,9]]), index=[2,'A',4], columns=[48,49,50])\n",
    "print(df_2)\n",
    "\n",
    "# Select values at index label = 2\n",
    "print(df_2.loc[2])\n",
    "\n",
    "# Select values at index position = 2 (label = 4)\n",
    "print(df_2.iloc[2])\n",
    "\n",
    "# Select values at index position = 2 (due to index is not integer-based)\n",
    "print(df_2.ix[2])"
   ]
  },
  {
   "cell_type": "markdown",
   "metadata": {},
   "source": [
    "- Selecting rows and columns"
   ]
  },
  {
   "cell_type": "code",
   "execution_count": 9,
   "metadata": {},
   "outputs": [
    {
     "name": "stdout",
     "output_type": "stream",
     "text": [
      "A    1\n",
      "B    2\n",
      "C    3\n",
      "Name: 0, dtype: int64\n",
      "0    1\n",
      "1    4\n",
      "2    7\n",
      "Name: A, dtype: int64\n"
     ]
    }
   ],
   "source": [
    "# Use iloc[number of index] to select row 0\n",
    "# similar to iloc[0,:]\n",
    "print(df.iloc[0])\n",
    "\n",
    "# Use loc[label of column] to select column 'A'\n",
    "# loc[:,'A']\n",
    "print(df.loc[:,'A'])"
   ]
  },
  {
   "cell_type": "markdown",
   "metadata": {},
   "source": [
    "#### How To Add an Index, Row or Column to a Pandas DataFrame?"
   ]
  },
  {
   "cell_type": "markdown",
   "metadata": {},
   "source": [
    "- Adding an Index to a DataFrame: \n",
    "        - Default: when you don’t specify the input to the ‘index’ argument , your DataFrame will have, by default, a numerically valued index that starts with 0 and continues until the last row of your DataFrame.\n",
    "        - Custom: re-use one of your columns and make it your index by .set_index()"
   ]
  },
  {
   "cell_type": "code",
   "execution_count": 10,
   "metadata": {},
   "outputs": [
    {
     "name": "stdout",
     "output_type": "stream",
     "text": [
      "   A  B  C\n",
      "0  1  2  3\n",
      "1  4  5  6\n",
      "2  7  8  9\n",
      "   A  B\n",
      "C      \n",
      "3  1  2\n",
      "6  4  5\n",
      "9  7  8\n"
     ]
    }
   ],
   "source": [
    "print(df)\n",
    "\n",
    "# Replace the default index [0,1,2] by the values of column 'C': [3,6,9]\n",
    "print(df.set_index('C'))"
   ]
  },
  {
   "cell_type": "markdown",
   "metadata": {},
   "source": [
    "- Adding Rows/Column to a DataFrame"
   ]
  },
  {
   "cell_type": "code",
   "execution_count": 59,
   "metadata": {},
   "outputs": [
    {
     "name": "stdout",
     "output_type": "stream",
     "text": [
      "      48  49  50\n",
      "2.5    1   2   3\n",
      "12.6   4   5   6\n",
      "4.8    7   8   9\n",
      "      48  49  50\n",
      "2.5    1   2   3\n",
      "12.6   4   5   6\n",
      "4.8    7   8   9\n",
      "2.0   11  12  13\n",
      "      48  49  50  51\n",
      "2.5    1   2   3  14\n",
      "12.6   4   5   6  15\n",
      "4.8    7   8   9  16\n",
      "2.0   11  12  13  17\n",
      "      48  49  50  51  52\n",
      "2.5    1   2   3  14  18\n",
      "12.6   4   5   6  15  19\n",
      "4.8    7   8   9  16  20\n",
      "2.0   11  12  13  17  21\n",
      "      48  49  50  51  52    53\n",
      "2.5    1   2   3  14  18   2.5\n",
      "12.6   4   5   6  15  19  12.6\n",
      "4.8    7   8   9  16  20   4.8\n",
      "2.0   11  12  13  17  21   2.0\n"
     ]
    }
   ],
   "source": [
    "df = pd.DataFrame(data=np.array([[1, 2, 3], [4, 5, 6], [7, 8, 9]]), index= [2.5, 12.6, 4.8], columns=[48, 49, 50])\n",
    "print(df)\n",
    "\n",
    "# Add a new row with index label = 2, value = [11,12,13] \n",
    "df.loc[2] = [11,12,13]\n",
    "print(df)\n",
    "\n",
    "# Add a new column with column label = 51, value = [14,15,16,17]\n",
    "df.loc[:,51] = [14,15,16,17]\n",
    "print(df)\n",
    "\n",
    "# Add Series as a new column with \n",
    "df.loc[:, 52] = pd.Series([18,19,20,21], index=df.index)\n",
    "print(df)\n",
    "\n",
    "# Add a new column with column label = 53, values = index values = [2.5, 12.6, 4.8, 2.0]\n",
    "df[53] = df.index\n",
    "print(df)"
   ]
  },
  {
   "cell_type": "markdown",
   "metadata": {},
   "source": [
    "- Resetting the Index of Your DataFrame"
   ]
  },
  {
   "cell_type": "code",
   "execution_count": 62,
   "metadata": {},
   "outputs": [
    {
     "name": "stdout",
     "output_type": "stream",
     "text": [
      "      48  49  50  51  52    53\n",
      "2.5    1   2   3  14  18   2.5\n",
      "12.6   4   5   6  15  19  12.6\n",
      "4.8    7   8   9  16  20   4.8\n",
      "2.0   11  12  13  17  21   2.0\n",
      "   48  49  50  51  52    53\n",
      "0   1   2   3  14  18   2.5\n",
      "1   4   5   6  15  19  12.6\n",
      "2   7   8   9  16  20   4.8\n",
      "3  11  12  13  17  21   2.0\n"
     ]
    }
   ],
   "source": [
    "print(df)\n",
    "\n",
    "# Reset index to defaut, remove the old index\n",
    "print(df.reset_index(level=0, drop=True))"
   ]
  },
  {
   "cell_type": "markdown",
   "metadata": {},
   "source": [
    "#### How to Delete Indices, Rows or Columns From a Pandas Data Frame"
   ]
  },
  {
   "cell_type": "markdown",
   "metadata": {},
   "source": [
    "- Deleting an Index from Your DataFrame"
   ]
  },
  {
   "cell_type": "code",
   "execution_count": 154,
   "metadata": {},
   "outputs": [
    {
     "name": "stdout",
     "output_type": "stream",
     "text": [
      "      48  49  50\n",
      "2.5    1   2   3\n",
      "12.6   4   5   6\n",
      "4.8    7   8   9\n",
      "4.8   40  50  60\n",
      "2.5   23  35  37\n",
      "       48  49  50\n",
      "index            \n",
      "12.6    4   5   6\n",
      "4.8    40  50  60\n",
      "2.5    23  35  37\n"
     ]
    }
   ],
   "source": [
    "df = pd.DataFrame(data=np.array([[1, 2, 3], [4, 5, 6], [7, 8, 9], [40, 50, 60], [23, 35, 37]]), \n",
    "                  index= [2.5, 12.6, 4.8, 4.8, 2.5], \n",
    "                  columns=[48, 49, 50])\n",
    "print(df)\n",
    "\n",
    "# Want to avoid the duplicate index\n",
    "# Reset index to default => drop the duplicates of 'index' column, keep the last values => set column 'index' as index\n",
    "print(df.reset_index().drop_duplicates(subset='index', keep='last').set_index('index'))"
   ]
  },
  {
   "cell_type": "markdown",
   "metadata": {},
   "source": [
    "- Deleting a Column from Your DataFrame"
   ]
  },
  {
   "cell_type": "code",
   "execution_count": 159,
   "metadata": {},
   "outputs": [
    {
     "name": "stdout",
     "output_type": "stream",
     "text": [
      "      48  49  50\n",
      "2.5    1   2   3\n",
      "12.6   4   5   6\n",
      "4.8    7   8   9\n",
      "4.8   40  50  60\n",
      "2.5   23  35  37\n",
      "      48  49\n",
      "2.5    1   2\n",
      "12.6   4   5\n",
      "4.8    7   8\n",
      "4.8   40  50\n",
      "2.5   23  35\n",
      "      48  49\n",
      "2.5    1   2\n",
      "12.6   4   5\n",
      "4.8    7   8\n",
      "4.8   40  50\n",
      "2.5   23  35\n",
      "      48  49\n",
      "12.6   4   5\n",
      "4.8    7   8\n",
      "4.8   40  50\n"
     ]
    }
   ],
   "source": [
    "df = pd.DataFrame(data=np.array([[1, 2, 3], [4, 5, 6], [7, 8, 9], [40, 50, 60], [23, 35, 37]]), \n",
    "                  index= [2.5, 12.6, 4.8, 4.8, 2.5], \n",
    "                  columns=[48, 49, 50])\n",
    "print(df)\n",
    "\n",
    "# Drop column (axis=1) label 50\n",
    "# inplace=True: delete the column without reassigning the DataFrame\n",
    "df.drop(50, axis=1, inplace=True)\n",
    "print(df)\n",
    "\n",
    "# Drop column (axis=1) at position 1\n",
    "df.drop(df.columns[[1]], axis=1)\n",
    "print(df)\n",
    "\n",
    "\n",
    "# Drop row (axis=0) label 2.5\n",
    "df.drop(2.5, axis=0, inplace=True)\n",
    "print(df)"
   ]
  },
  {
   "cell_type": "markdown",
   "metadata": {},
   "source": [
    "- Removing a Row from Your DataFrame"
   ]
  },
  {
   "cell_type": "code",
   "execution_count": 160,
   "metadata": {},
   "outputs": [
    {
     "name": "stdout",
     "output_type": "stream",
     "text": [
      "     48  49\n",
      "4.8   7   8\n",
      "4.8  40  50\n"
     ]
    }
   ],
   "source": [
    "# Drop the row at index position 0\n",
    "print(df.drop(df.index[0]))"
   ]
  },
  {
   "cell_type": "markdown",
   "metadata": {},
   "source": [
    "#### How to Rename the Index or Columns of a Pandas DataFrame"
   ]
  },
  {
   "cell_type": "code",
   "execution_count": 167,
   "metadata": {},
   "outputs": [
    {
     "name": "stdout",
     "output_type": "stream",
     "text": [
      "      48  49  50\n",
      "2.5    1   2   3\n",
      "12.6   4   5   6\n",
      "4.8    7   8   9\n",
      "4.8   40  50  60\n",
      "2.5   23  35  37\n",
      "      48_new  49_new  50_new\n",
      "2.5        1       2       3\n",
      "12.6       4       5       6\n",
      "4.8        7       8       9\n",
      "4.8       40      50      60\n",
      "2.5       23      35      37\n",
      "         48_new  49_new  50_new\n",
      "2.5           1       2       3\n",
      "12.6          4       5       6\n",
      "4.8_new       7       8       9\n",
      "4.8_new      40      50      60\n",
      "2.5          23      35      37\n"
     ]
    }
   ],
   "source": [
    "df = pd.DataFrame(data=np.array([[1, 2, 3], [4, 5, 6], [7, 8, 9], [40, 50, 60], [23, 35, 37]]), \n",
    "                  index= [2.5, 12.6, 4.8, 4.8, 2.5], \n",
    "                  columns=[48, 49, 50])\n",
    "print(df)\n",
    "\n",
    "newcols = {48: '48_new', 49: '49_new', 50: '50_new'}\n",
    "newrows = {4.8: '4.8_new'}\n",
    "# Rename columns \n",
    "df.rename(columns=newcols, inplace=True)\n",
    "print(df)\n",
    "\n",
    "# Rename rows\n",
    "df.rename(index=newrows, inplace=True)\n",
    "print(df)"
   ]
  },
  {
   "cell_type": "markdown",
   "metadata": {},
   "source": [
    "####  How To Format The Data in Your Pandas DataFrame"
   ]
  },
  {
   "cell_type": "markdown",
   "metadata": {},
   "source": [
    "- Replacing All Occurrences of a String in a DataFrame"
   ]
  },
  {
   "cell_type": "code",
   "execution_count": 39,
   "metadata": {},
   "outputs": [
    {
     "name": "stdout",
     "output_type": "stream",
     "text": [
      "     Student1 Student2    Student3\n",
      "0          OK  Perfect  Acceptable\n",
      "1       Awful    Awful     Perfect\n",
      "2  Acceptable       OK        Poor\n",
      "   Student1  Student2  Student3\n",
      "0         2         4         3\n",
      "1         0         0         4\n",
      "2         3         2         1\n",
      "     Student1 Student2    Student3\n",
      "0      OK<br>  Perfect  Acceptable\n",
      "1   Awful<br>    Awful     Perfect\n",
      "2  Acceptable       OK        Poor\n"
     ]
    }
   ],
   "source": [
    "import pandas as pd\n",
    "df = pd.DataFrame(data=[['OK', 'Perfect', 'Acceptable'],\n",
    "                        ['Awful', 'Awful', 'Perfect'],\n",
    "                        ['Acceptable', 'OK', 'Poor']],\n",
    "                 columns=['Student1', 'Student2', 'Student3'])\n",
    "print(df)\n",
    "\n",
    "# Replace the strings by numerical values (0-4)\n",
    "print(df.replace(['Awful', 'Poor', 'OK', 'Acceptable', 'Perfect'], [0, 1, 2, 3, 4]))\n",
    "\n",
    "df = pd.DataFrame(data=[['OK\\n', 'Perfect', 'Acceptable'],\n",
    "                        ['Awful\\n', 'Awful', 'Perfect'],\n",
    "                        ['Acceptable', 'OK', 'Poor']],\n",
    "                 columns=['Student1', 'Student2', 'Student3'])\n",
    "\n",
    "# Replace the string combinations using regex\n",
    "print(df.replace({'\\n': '<br>'}, regex=True))"
   ]
  },
  {
   "cell_type": "markdown",
   "metadata": {},
   "source": [
    "- Removing Parts From Strings in the Cells of Your DataFrame"
   ]
  },
  {
   "cell_type": "code",
   "execution_count": 40,
   "metadata": {},
   "outputs": [
    {
     "name": "stdout",
     "output_type": "stream",
     "text": [
      "     Student1 Student2    Student3\n",
      "0          OK  Perfect  Acceptable\n",
      "1       Awful    Awful     Perfect\n",
      "2  Acceptable       OK        Poor\n"
     ]
    }
   ],
   "source": [
    "# Delete unwanted parts from the strings in the `Student1` column\n",
    "# lstrip(): Remove '\\n' from the left of string\n",
    "# rstrip(): Remove '\\n' from the right of string\n",
    "# map(): Apply the lambda function over each element or element-wise of the column\n",
    "df['Student1'] = df['Student1'].map(lambda x: x.lstrip('\\n').rstrip('\\n'))\n",
    "print(df)"
   ]
  },
  {
   "cell_type": "markdown",
   "metadata": {},
   "source": [
    "- Splitting Text in a Column into Multiple Rows in a DataFrame"
   ]
  },
  {
   "cell_type": "code",
   "execution_count": 106,
   "metadata": {},
   "outputs": [
    {
     "name": "stdout",
     "output_type": "stream",
     "text": [
      "   Age  PlusOne             Ticket\n",
      "0   34        0           22:33:44\n",
      "1   22        0           55:66:77\n",
      "2   19        1  45:56:67 56:78:90\n",
      "          0\n",
      "0  22:33:44\n",
      "1  55:66:77\n",
      "2  45:56:67\n",
      "2  56:78:90\n"
     ]
    },
    {
     "data": {
      "text/html": [
       "<div>\n",
       "<style scoped>\n",
       "    .dataframe tbody tr th:only-of-type {\n",
       "        vertical-align: middle;\n",
       "    }\n",
       "\n",
       "    .dataframe tbody tr th {\n",
       "        vertical-align: top;\n",
       "    }\n",
       "\n",
       "    .dataframe thead th {\n",
       "        text-align: right;\n",
       "    }\n",
       "</style>\n",
       "<table border=\"1\" class=\"dataframe\">\n",
       "  <thead>\n",
       "    <tr style=\"text-align: right;\">\n",
       "      <th></th>\n",
       "      <th>Age</th>\n",
       "      <th>PlusOne</th>\n",
       "      <th>0</th>\n",
       "    </tr>\n",
       "  </thead>\n",
       "  <tbody>\n",
       "    <tr>\n",
       "      <th>0</th>\n",
       "      <td>34</td>\n",
       "      <td>0</td>\n",
       "      <td>22:33:44</td>\n",
       "    </tr>\n",
       "    <tr>\n",
       "      <th>1</th>\n",
       "      <td>22</td>\n",
       "      <td>0</td>\n",
       "      <td>55:66:77</td>\n",
       "    </tr>\n",
       "    <tr>\n",
       "      <th>2</th>\n",
       "      <td>19</td>\n",
       "      <td>1</td>\n",
       "      <td>45:56:67</td>\n",
       "    </tr>\n",
       "    <tr>\n",
       "      <th>2</th>\n",
       "      <td>19</td>\n",
       "      <td>1</td>\n",
       "      <td>56:78:90</td>\n",
       "    </tr>\n",
       "  </tbody>\n",
       "</table>\n",
       "</div>"
      ],
      "text/plain": [
       "   Age  PlusOne         0\n",
       "0   34        0  22:33:44\n",
       "1   22        0  55:66:77\n",
       "2   19        1  45:56:67\n",
       "2   19        1  56:78:90"
      ]
     },
     "execution_count": 106,
     "metadata": {},
     "output_type": "execute_result"
    }
   ],
   "source": [
    "df = pd.DataFrame({'Age': [34,22,19], 'PlusOne': [0,0,1], 'Ticket': ['22:33:44', '55:66:77', '45:56:67 56:78:90']})\n",
    "print(df)\n",
    "\n",
    "# str.split(): Split out the two values in the third row\n",
    "# apply(pd.Series, 1): Make it a Series, axis=1\n",
    "# stack(): Stack the values\n",
    "ticket_series = df['Ticket'].str.split(' ').apply(pd.Series, 1).stack()\n",
    "\n",
    "# Get rid of the stack:\n",
    "# droplevel(-1): Drop the level to line up with the DataFrame\n",
    "# 0-indexed beginning from the top\n",
    "ticket_series.index = ticket_series.index.droplevel(-1)\n",
    "\n",
    "# Make your series a dataframe \n",
    "ticketdf = pd.DataFrame(ticket_series)\n",
    "print(ticketdf)\n",
    "\n",
    "# Delete the `Ticket` column from your DataFrame\n",
    "del df['Ticket']\n",
    "\n",
    "# Join the ticket DataFrame to `df`\n",
    "df = df.join(ticketdf)\n",
    "\n",
    "# Check out the new `df`\n",
    "df"
   ]
  },
  {
   "cell_type": "markdown",
   "metadata": {},
   "source": [
    "- Applying A Function to Your Pandas DataFrame’s Columns or Rows"
   ]
  },
  {
   "cell_type": "code",
   "execution_count": 107,
   "metadata": {},
   "outputs": [
    {
     "name": "stdout",
     "output_type": "stream",
     "text": [
      "0    68\n",
      "1    44\n",
      "2    38\n",
      "2    38\n",
      "Name: Age, dtype: int64\n",
      "0    68\n",
      "1    44\n",
      "2    38\n",
      "2    38\n",
      "Name: Age, dtype: int64\n",
      "   Age  PlusOne                 0\n",
      "0   68        0  22:33:4422:33:44\n",
      "1   44        0  55:66:7755:66:77\n",
      "2   38        2  45:56:6745:56:67\n",
      "2   38        2  56:78:9056:78:90\n",
      "Age                      68\n",
      "PlusOne                   0\n",
      "0          22:33:4422:33:44\n",
      "Name: 0, dtype: object\n"
     ]
    }
   ],
   "source": [
    "doubler = lambda x: x*2\n",
    "# Apply a function to column\n",
    "print(df['Age'].apply(doubler))\n",
    "# Using map() instead of doubler\n",
    "print(df['Age'].map(lambda x: x*2))\n",
    "# Using applymap() instead of map()\n",
    "print(df.applymap(doubler))\n",
    "\n",
    "# Apply a function to row\n",
    "print(df.loc[0].apply(doubler))\n"
   ]
  },
  {
   "cell_type": "markdown",
   "metadata": {},
   "source": [
    "#### How To Create an Empty DataFrame"
   ]
  },
  {
   "cell_type": "code",
   "execution_count": 108,
   "metadata": {},
   "outputs": [
    {
     "name": "stdout",
     "output_type": "stream",
     "text": [
      "    A\n",
      "0 NaN\n",
      "1 NaN\n",
      "2 NaN\n",
      "3 NaN\n",
      "    A\n",
      "0 NaN\n",
      "1 NaN\n",
      "2 NaN\n",
      "3 NaN\n",
      "     A\n",
      "0  1.0\n"
     ]
    }
   ],
   "source": [
    "import numpy as np\n",
    "\n",
    "# np.nan: create a dataframe with values=nan\n",
    "df = pd.DataFrame(np.nan, index=[0,1,2,3], columns=['A'])\n",
    "print(df)\n",
    "\n",
    "# dtype: specific the type of values\n",
    "df = pd.DataFrame(index=range(0,4), columns=['A'], dtype='float')\n",
    "print(df)\n",
    "\n",
    "# DataFrame with no specified index\n",
    "df = pd.DataFrame(columns=['A'], dtype='float')\n",
    "# Index will be defaulty added when adding values\n",
    "df.loc[0] = 1\n",
    "print(df)"
   ]
  },
  {
   "cell_type": "markdown",
   "metadata": {},
   "source": [
    "####  Does Pandas Recognize Dates When Importing Data?"
   ]
  },
  {
   "cell_type": "markdown",
   "metadata": {},
   "source": [
    "Pandas can recognize it, but you need to help it a tiny bit: add the argument parse_dates when you’reading in data from, let’s say, a comma-separated value (CSV) file. There are, however, always weird date-time formats."
   ]
  },
  {
   "cell_type": "code",
   "execution_count": 95,
   "metadata": {},
   "outputs": [
    {
     "name": "stdout",
     "output_type": "stream",
     "text": [
      "             STATION          STATION_NAME  ELEVATION  LATITUDE  LONGITUDE  \\\n",
      "0  GHCND:USC00327027  PETERSBURG 2 N ND US      466.3   48.0355     -98.01   \n",
      "1  GHCND:USC00327027  PETERSBURG 2 N ND US      466.3   48.0355     -98.01   \n",
      "2  GHCND:USC00327027  PETERSBURG 2 N ND US      466.3   48.0355     -98.01   \n",
      "3  GHCND:USC00327027  PETERSBURG 2 N ND US      466.3   48.0355     -98.01   \n",
      "4  GHCND:USC00327027  PETERSBURG 2 N ND US      466.3   48.0355     -98.01   \n",
      "\n",
      "       DATE  TMAX  TMIN  PRCP  \n",
      "0  20100101  -178  -311     0  \n",
      "1  20100102  -244  -322     0  \n",
      "2  20100103  -194  -289     0  \n",
      "3  20100104  -167  -200    15  \n",
      "4  20100105  -133  -167  9999  \n"
     ]
    },
    {
     "data": {
      "text/html": [
       "<div>\n",
       "<style scoped>\n",
       "    .dataframe tbody tr th:only-of-type {\n",
       "        vertical-align: middle;\n",
       "    }\n",
       "\n",
       "    .dataframe tbody tr th {\n",
       "        vertical-align: top;\n",
       "    }\n",
       "\n",
       "    .dataframe thead th {\n",
       "        text-align: right;\n",
       "    }\n",
       "</style>\n",
       "<table border=\"1\" class=\"dataframe\">\n",
       "  <thead>\n",
       "    <tr style=\"text-align: right;\">\n",
       "      <th></th>\n",
       "      <th>STATION</th>\n",
       "      <th>STATION_NAME</th>\n",
       "      <th>ELEVATION</th>\n",
       "      <th>LATITUDE</th>\n",
       "      <th>LONGITUDE</th>\n",
       "      <th>DATE</th>\n",
       "      <th>TMAX</th>\n",
       "      <th>TMIN</th>\n",
       "      <th>PRCP</th>\n",
       "    </tr>\n",
       "  </thead>\n",
       "  <tbody>\n",
       "    <tr>\n",
       "      <th>0</th>\n",
       "      <td>GHCND:USC00327027</td>\n",
       "      <td>PETERSBURG 2 N ND US</td>\n",
       "      <td>466.3</td>\n",
       "      <td>48.0355</td>\n",
       "      <td>-98.01</td>\n",
       "      <td>2010-01-01</td>\n",
       "      <td>-178</td>\n",
       "      <td>-311</td>\n",
       "      <td>0</td>\n",
       "    </tr>\n",
       "    <tr>\n",
       "      <th>1</th>\n",
       "      <td>GHCND:USC00327027</td>\n",
       "      <td>PETERSBURG 2 N ND US</td>\n",
       "      <td>466.3</td>\n",
       "      <td>48.0355</td>\n",
       "      <td>-98.01</td>\n",
       "      <td>2010-01-02</td>\n",
       "      <td>-244</td>\n",
       "      <td>-322</td>\n",
       "      <td>0</td>\n",
       "    </tr>\n",
       "    <tr>\n",
       "      <th>2</th>\n",
       "      <td>GHCND:USC00327027</td>\n",
       "      <td>PETERSBURG 2 N ND US</td>\n",
       "      <td>466.3</td>\n",
       "      <td>48.0355</td>\n",
       "      <td>-98.01</td>\n",
       "      <td>2010-01-03</td>\n",
       "      <td>-194</td>\n",
       "      <td>-289</td>\n",
       "      <td>0</td>\n",
       "    </tr>\n",
       "    <tr>\n",
       "      <th>3</th>\n",
       "      <td>GHCND:USC00327027</td>\n",
       "      <td>PETERSBURG 2 N ND US</td>\n",
       "      <td>466.3</td>\n",
       "      <td>48.0355</td>\n",
       "      <td>-98.01</td>\n",
       "      <td>2010-01-04</td>\n",
       "      <td>-167</td>\n",
       "      <td>-200</td>\n",
       "      <td>15</td>\n",
       "    </tr>\n",
       "    <tr>\n",
       "      <th>4</th>\n",
       "      <td>GHCND:USC00327027</td>\n",
       "      <td>PETERSBURG 2 N ND US</td>\n",
       "      <td>466.3</td>\n",
       "      <td>48.0355</td>\n",
       "      <td>-98.01</td>\n",
       "      <td>2010-01-05</td>\n",
       "      <td>-133</td>\n",
       "      <td>-167</td>\n",
       "      <td>9999</td>\n",
       "    </tr>\n",
       "  </tbody>\n",
       "</table>\n",
       "</div>"
      ],
      "text/plain": [
       "             STATION          STATION_NAME  ELEVATION  LATITUDE  LONGITUDE  \\\n",
       "0  GHCND:USC00327027  PETERSBURG 2 N ND US      466.3   48.0355     -98.01   \n",
       "1  GHCND:USC00327027  PETERSBURG 2 N ND US      466.3   48.0355     -98.01   \n",
       "2  GHCND:USC00327027  PETERSBURG 2 N ND US      466.3   48.0355     -98.01   \n",
       "3  GHCND:USC00327027  PETERSBURG 2 N ND US      466.3   48.0355     -98.01   \n",
       "4  GHCND:USC00327027  PETERSBURG 2 N ND US      466.3   48.0355     -98.01   \n",
       "\n",
       "        DATE  TMAX  TMIN  PRCP  \n",
       "0 2010-01-01  -178  -311     0  \n",
       "1 2010-01-02  -244  -322     0  \n",
       "2 2010-01-03  -194  -289     0  \n",
       "3 2010-01-04  -167  -200    15  \n",
       "4 2010-01-05  -133  -167  9999  "
      ]
     },
     "execution_count": 95,
     "metadata": {},
     "output_type": "execute_result"
    }
   ],
   "source": [
    "import pandas as pd\n",
    "df = pd.read_csv('./datasets/weather.csv', parse_dates=True)\n",
    "print(df.head())\n",
    "\n",
    "# Or another way to take a column as datas\n",
    "pd.read_csv('./datasets/weather.csv', parse_dates=['DATE']).head()"
   ]
  },
  {
   "cell_type": "markdown",
   "metadata": {},
   "source": [
    "In such cases, you can construct your own parser to deal with this."
   ]
  },
  {
   "cell_type": "code",
   "execution_count": 109,
   "metadata": {},
   "outputs": [
    {
     "data": {
      "text/html": [
       "<div>\n",
       "<style scoped>\n",
       "    .dataframe tbody tr th:only-of-type {\n",
       "        vertical-align: middle;\n",
       "    }\n",
       "\n",
       "    .dataframe tbody tr th {\n",
       "        vertical-align: top;\n",
       "    }\n",
       "\n",
       "    .dataframe thead th {\n",
       "        text-align: right;\n",
       "    }\n",
       "</style>\n",
       "<table border=\"1\" class=\"dataframe\">\n",
       "  <thead>\n",
       "    <tr style=\"text-align: right;\">\n",
       "      <th></th>\n",
       "      <th>STATION</th>\n",
       "      <th>STATION_NAME</th>\n",
       "      <th>ELEVATION</th>\n",
       "      <th>LATITUDE</th>\n",
       "      <th>LONGITUDE</th>\n",
       "      <th>DATE</th>\n",
       "      <th>TMAX</th>\n",
       "      <th>TMIN</th>\n",
       "      <th>PRCP</th>\n",
       "    </tr>\n",
       "  </thead>\n",
       "  <tbody>\n",
       "    <tr>\n",
       "      <th>0</th>\n",
       "      <td>GHCND:USC00327027</td>\n",
       "      <td>PETERSBURG 2 N ND US</td>\n",
       "      <td>466.3</td>\n",
       "      <td>48.0355</td>\n",
       "      <td>-98.01</td>\n",
       "      <td>2010-01-01</td>\n",
       "      <td>-178</td>\n",
       "      <td>-311</td>\n",
       "      <td>0</td>\n",
       "    </tr>\n",
       "    <tr>\n",
       "      <th>1</th>\n",
       "      <td>GHCND:USC00327027</td>\n",
       "      <td>PETERSBURG 2 N ND US</td>\n",
       "      <td>466.3</td>\n",
       "      <td>48.0355</td>\n",
       "      <td>-98.01</td>\n",
       "      <td>2010-01-02</td>\n",
       "      <td>-244</td>\n",
       "      <td>-322</td>\n",
       "      <td>0</td>\n",
       "    </tr>\n",
       "    <tr>\n",
       "      <th>2</th>\n",
       "      <td>GHCND:USC00327027</td>\n",
       "      <td>PETERSBURG 2 N ND US</td>\n",
       "      <td>466.3</td>\n",
       "      <td>48.0355</td>\n",
       "      <td>-98.01</td>\n",
       "      <td>2010-01-03</td>\n",
       "      <td>-194</td>\n",
       "      <td>-289</td>\n",
       "      <td>0</td>\n",
       "    </tr>\n",
       "    <tr>\n",
       "      <th>3</th>\n",
       "      <td>GHCND:USC00327027</td>\n",
       "      <td>PETERSBURG 2 N ND US</td>\n",
       "      <td>466.3</td>\n",
       "      <td>48.0355</td>\n",
       "      <td>-98.01</td>\n",
       "      <td>2010-01-04</td>\n",
       "      <td>-167</td>\n",
       "      <td>-200</td>\n",
       "      <td>15</td>\n",
       "    </tr>\n",
       "    <tr>\n",
       "      <th>4</th>\n",
       "      <td>GHCND:USC00327027</td>\n",
       "      <td>PETERSBURG 2 N ND US</td>\n",
       "      <td>466.3</td>\n",
       "      <td>48.0355</td>\n",
       "      <td>-98.01</td>\n",
       "      <td>2010-01-05</td>\n",
       "      <td>-133</td>\n",
       "      <td>-167</td>\n",
       "      <td>9999</td>\n",
       "    </tr>\n",
       "  </tbody>\n",
       "</table>\n",
       "</div>"
      ],
      "text/plain": [
       "             STATION          STATION_NAME  ELEVATION  LATITUDE  LONGITUDE  \\\n",
       "0  GHCND:USC00327027  PETERSBURG 2 N ND US      466.3   48.0355     -98.01   \n",
       "1  GHCND:USC00327027  PETERSBURG 2 N ND US      466.3   48.0355     -98.01   \n",
       "2  GHCND:USC00327027  PETERSBURG 2 N ND US      466.3   48.0355     -98.01   \n",
       "3  GHCND:USC00327027  PETERSBURG 2 N ND US      466.3   48.0355     -98.01   \n",
       "4  GHCND:USC00327027  PETERSBURG 2 N ND US      466.3   48.0355     -98.01   \n",
       "\n",
       "        DATE  TMAX  TMIN  PRCP  \n",
       "0 2010-01-01  -178  -311     0  \n",
       "1 2010-01-02  -244  -322     0  \n",
       "2 2010-01-03  -194  -289     0  \n",
       "3 2010-01-04  -167  -200    15  \n",
       "4 2010-01-05  -133  -167  9999  "
      ]
     },
     "execution_count": 109,
     "metadata": {},
     "output_type": "execute_result"
    }
   ],
   "source": [
    "dateparser = lambda x: pd.datetime.strptime(x, '%Y%m%d')\n",
    "\n",
    "# Which makes your read command:\n",
    "pd.read_csv('./datasets/weather.csv', parse_dates=['DATE'], date_parser=dateparser).head()\n",
    "\n",
    "# Or combine two columns into a single DateTime column\n",
    "# pd.read_csv('./datasets/weather.csv', parse_dates={'datetime': ['date', 'time']}, date_parser=dateparser)"
   ]
  },
  {
   "cell_type": "markdown",
   "metadata": {},
   "source": [
    "####  When, Why And How You Should Reshape Your Pandas DataFrame"
   ]
  },
  {
   "cell_type": "markdown",
   "metadata": {},
   "source": [
    "Reshaping your DataFrame is basically transforming it so that the resulting structure makes it more suitable for your data analysis.\n",
    "\n",
    "There are three ways of reshaping that frequently raise questions with users: pivoting, stacking and unstacking and melting."
   ]
  },
  {
   "cell_type": "markdown",
   "metadata": {},
   "source": [
    "- Pivotting Your DataFrame"
   ]
  },
  {
   "cell_type": "markdown",
   "metadata": {},
   "source": [
    "You can use the pivot() function to create a new derived table out of your original one. When you use the function, you can pass three arguments:\n",
    "\n",
    "    Values: this argument allows you to specify which values of your original DataFrame you want to see in your pivot table.\n",
    "    Columns: whatever you pass to this argument will become a column in your resulting table.\n",
    "    Index: whatever you pass to this argument will become an index in your resulting table."
   ]
  },
  {
   "cell_type": "code",
   "execution_count": 112,
   "metadata": {},
   "outputs": [
    {
     "name": "stdout",
     "output_type": "stream",
     "text": [
      "        category  price    store  testscore\n",
      "0       Cleaning  11.42  Walmart          4\n",
      "1       Cleaning  23.50      Dia          3\n",
      "2  Entertainment  19.99  Walmart          5\n",
      "3  Entertainment  15.95     Fnac          7\n",
      "4           Tech  55.75      Dia          5\n",
      "\n",
      "\n",
      "store            Dia   Fnac  Walmart\n",
      "category                            \n",
      "Cleaning       23.50    NaN    11.42\n",
      "Entertainment    NaN  15.95    19.99\n",
      "Tech           55.75    NaN   111.55\n"
     ]
    }
   ],
   "source": [
    "products = pd.DataFrame({'category': ['Cleaning', 'Cleaning', 'Entertainment', 'Entertainment', 'Tech', 'Tech'],\n",
    "                        'store': ['Walmart', 'Dia', 'Walmart', 'Fnac', 'Dia','Walmart'],\n",
    "                        'price':[11.42, 23.50, 19.99, 15.95, 55.75, 111.55],\n",
    "                        'testscore': [4, 3, 5, 7, 5, 8]})\n",
    "print(products.head())\n",
    "print('\\n')\n",
    "\n",
    "# Use `pivot()` to pivot the DataFrame\n",
    "pivot_products = products.pivot(index='category', columns='store', values='price')\n",
    "print(pivot_products)"
   ]
  },
  {
   "cell_type": "markdown",
   "metadata": {},
   "source": [
    "When you don’t specifically fill in what values you expect to be present in your resulting table, you will pivot by multiple columns:"
   ]
  },
  {
   "cell_type": "code",
   "execution_count": 117,
   "metadata": {},
   "outputs": [
    {
     "name": "stdout",
     "output_type": "stream",
     "text": [
      "        category   price    store  testscore\n",
      "0       Cleaning   11.42  Walmart          4\n",
      "1       Cleaning   23.50      Dia          3\n",
      "2  Entertainment   19.99  Walmart          5\n",
      "3  Entertainment   15.95     Fnac          7\n",
      "4           Tech   55.75      Dia          5\n",
      "5           Tech  111.55  Walmart          8\n",
      "\n",
      "\n",
      "               price                testscore             \n",
      "store            Dia   Fnac Walmart       Dia Fnac Walmart\n",
      "category                                                  \n",
      "Cleaning       23.50    NaN   11.42       3.0  NaN     4.0\n",
      "Entertainment    NaN  15.95   19.99       NaN  7.0     5.0\n",
      "Tech           55.75    NaN  111.55       5.0  NaN     8.0\n"
     ]
    }
   ],
   "source": [
    "products = pd.DataFrame({'category': ['Cleaning', 'Cleaning', 'Entertainment', 'Entertainment', 'Tech', 'Tech'],\n",
    "                        'store': ['Walmart', 'Dia', 'Walmart', 'Fnac', 'Dia','Walmart'],\n",
    "                        'price':[11.42, 23.50, 19.99, 15.95, 55.75, 111.55],\n",
    "                        'testscore': [4, 3, 5, 7, 5, 8]})\n",
    "print(products)\n",
    "print('\\n')\n",
    "\n",
    "# Note that your data can not have rows with duplicate values for the columns that you specify\n",
    "pivot_products = products.pivot(index='category', columns='store')\n",
    "print(pivot_products)"
   ]
  },
  {
   "cell_type": "code",
   "execution_count": 122,
   "metadata": {},
   "outputs": [
    {
     "name": "stdout",
     "output_type": "stream",
     "text": [
      "        category   price    store  testscore\n",
      "0       Cleaning   11.42  Walmart          4\n",
      "1       Cleaning   23.50      Dia          3\n",
      "2  Entertainment   19.99  Walmart          5\n",
      "3  Entertainment   15.95     Fnac          7\n",
      "4           Tech   19.99      Dia          5\n",
      "5           Tech  111.55  Walmart          8\n",
      "\n",
      "\n",
      "store            Dia   Fnac  Walmart\n",
      "category                            \n",
      "Cleaning       23.50    NaN    11.42\n",
      "Entertainment    NaN  15.95    19.99\n",
      "Tech           19.99    NaN   111.55\n"
     ]
    }
   ],
   "source": [
    "products = pd.DataFrame({'category': ['Cleaning', 'Cleaning', 'Entertainment', 'Entertainment', 'Tech', 'Tech'],\n",
    "                        'store': ['Walmart', 'Dia', 'Walmart', 'Fnac', 'Dia','Walmart'],\n",
    "                        'price':[11.42, 23.50, 19.99, 15.95, 19.99, 111.55],\n",
    "                        'testscore': [4, 3, 5, 7, 5, 8]})\n",
    "print(products)\n",
    "print('\\n')\n",
    "\n",
    "# aggfunc: use an aggregation function used to combine multiple values \n",
    "# only for pivot_table\n",
    "pivot_products = products.pivot_table(index='category', columns='store', values='price', aggfunc='mean')\n",
    "print(pivot_products)"
   ]
  },
  {
   "cell_type": "markdown",
   "metadata": {},
   "source": [
    "- Using stack() and unstack() to Reshape Your Pandas DataFrame"
   ]
  },
  {
   "cell_type": "markdown",
   "metadata": {},
   "source": [
    "When you stack a DataFrame, you make it taller. You move the innermost column index to become the innermost row index. You return a DataFrame with an index with a new inner-most level of row labels.\n",
    "\n",
    "Unstack() to move the innermost row index to become the innermost column index."
   ]
  },
  {
   "cell_type": "markdown",
   "metadata": {},
   "source": [
    "- Reshaping Your DataFrame With Melt()"
   ]
  },
  {
   "cell_type": "markdown",
   "metadata": {},
   "source": [
    "Melting is considered to be very useful for when you have a data that has one or more columns that are identifier variables, while all other columns are considered measured variables. DataFrame will now become longer instead of wider.\n",
    "\n",
    "As a result, you just have two non-identifier columns, namely, ‘variable’ and ‘value’."
   ]
  },
  {
   "cell_type": "code",
   "execution_count": 127,
   "metadata": {},
   "outputs": [
    {
     "name": "stdout",
     "output_type": "stream",
     "text": [
      "  BloodType FirstName LastName  Weight\n",
      "0        A-      John      Doe      90\n",
      "1        B+      Jane   Austen      64\n",
      "\n",
      "\n",
      "  FirstName LastName measurements value\n",
      "0      John      Doe    BloodType    A-\n",
      "1      Jane   Austen    BloodType    B+\n",
      "2      John      Doe       Weight    90\n",
      "3      Jane   Austen       Weight    64\n"
     ]
    }
   ],
   "source": [
    "# The `people` DataFrame\n",
    "people = pd.DataFrame({'FirstName' : ['John', 'Jane'],\n",
    "                       'LastName' : ['Doe', 'Austen'],\n",
    "                       'BloodType' : ['A-', 'B+'],\n",
    "                       'Weight' : [90, 64]})\n",
    "print(people)\n",
    "print('\\n')\n",
    "\n",
    "# Use `melt()` on the `people` DataFrame\n",
    "print(pd.melt(people, id_vars=['FirstName', 'LastName'], var_name='measurements'))"
   ]
  },
  {
   "cell_type": "markdown",
   "metadata": {},
   "source": [
    "#### How To Iterate Over a Pandas DataFrame"
   ]
  },
  {
   "cell_type": "markdown",
   "metadata": {},
   "source": [
    "You can iterate over the rows of your DataFrame with the help of a for loop in combination with an iterrows() call on your DataFrame:"
   ]
  },
  {
   "cell_type": "code",
   "execution_count": 129,
   "metadata": {},
   "outputs": [
    {
     "name": "stdout",
     "output_type": "stream",
     "text": [
      "   A  B  C\n",
      "0  1  2  3\n",
      "1  4  5  6\n",
      "2  7  8  9\n",
      "(1, 2)\n",
      "(4, 5)\n",
      "(7, 8)\n"
     ]
    }
   ],
   "source": [
    "df = pd.DataFrame(data=np.array([[1, 2, 3], [4, 5, 6], [7, 8, 9]]), columns=['A', 'B', 'C'])\n",
    "print(df)\n",
    "\n",
    "for index, row in df.iterrows() :\n",
    "    print(row['A'], row['B'])"
   ]
  },
  {
   "cell_type": "markdown",
   "metadata": {},
   "source": [
    "#### How To Write a Pandas DataFrame to a File"
   ]
  },
  {
   "cell_type": "markdown",
   "metadata": {},
   "source": [
    "- Outputting a DataFrame to CSV"
   ]
  },
  {
   "cell_type": "code",
   "execution_count": 132,
   "metadata": {},
   "outputs": [],
   "source": [
    "df.to_csv('./datasets/myDataFrame.csv', sep=',', encoding='utf-8')"
   ]
  },
  {
   "cell_type": "markdown",
   "metadata": {},
   "source": [
    "- Writing a DataFrame to Excel"
   ]
  },
  {
   "cell_type": "code",
   "execution_count": 135,
   "metadata": {},
   "outputs": [],
   "source": [
    "writer = pd.ExcelWriter('./datasets/myDataFrame.xlsx')\n",
    "df.to_excel(writer, 'DataFrame')\n",
    "writer.save()"
   ]
  },
  {
   "cell_type": "markdown",
   "metadata": {},
   "source": [
    "Reference: https://www.datacamp.com/community/tutorials/pandas-tutorial-dataframe-python"
   ]
  }
 ],
 "metadata": {
  "kernelspec": {
   "display_name": "Python 2",
   "language": "python",
   "name": "python2"
  },
  "language_info": {
   "codemirror_mode": {
    "name": "ipython",
    "version": 2
   },
   "file_extension": ".py",
   "mimetype": "text/x-python",
   "name": "python",
   "nbconvert_exporter": "python",
   "pygments_lexer": "ipython2",
   "version": "2.7.12"
  }
 },
 "nbformat": 4,
 "nbformat_minor": 2
}
