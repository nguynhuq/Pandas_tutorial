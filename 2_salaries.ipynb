{
 "cells": [
  {
   "cell_type": "markdown",
   "metadata": {},
   "source": [
    "# Exploring Data example with Pandas"
   ]
  },
  {
   "cell_type": "markdown",
   "metadata": {},
   "source": [
    "Let’s take a quick look at what we can do with some simple data using Python. I took a look around Kaggle and found San Francisco City Employee salary data.\n",
    "\n",
    "First, I imported the data and read it into a Panda’s dataframe. Then, I wanted to see the data. I looked at a few of the rows and used the Panda’s dataframe’s describe method to see how the data is distributed."
   ]
  },
  {
   "cell_type": "code",
   "execution_count": 9,
   "metadata": {},
   "outputs": [
    {
     "data": {
      "text/html": [
       "<div>\n",
       "<style scoped>\n",
       "    .dataframe tbody tr th:only-of-type {\n",
       "        vertical-align: middle;\n",
       "    }\n",
       "\n",
       "    .dataframe tbody tr th {\n",
       "        vertical-align: top;\n",
       "    }\n",
       "\n",
       "    .dataframe thead th {\n",
       "        text-align: right;\n",
       "    }\n",
       "</style>\n",
       "<table border=\"1\" class=\"dataframe\">\n",
       "  <thead>\n",
       "    <tr style=\"text-align: right;\">\n",
       "      <th></th>\n",
       "      <th>EmployeeName</th>\n",
       "      <th>JobTitle</th>\n",
       "      <th>BasePay</th>\n",
       "      <th>OvertimePay</th>\n",
       "      <th>OtherPay</th>\n",
       "      <th>Benefits</th>\n",
       "      <th>TotalPay</th>\n",
       "      <th>TotalPayBenefits</th>\n",
       "      <th>Year</th>\n",
       "      <th>Notes</th>\n",
       "      <th>Agency</th>\n",
       "      <th>Status</th>\n",
       "    </tr>\n",
       "    <tr>\n",
       "      <th>Id</th>\n",
       "      <th></th>\n",
       "      <th></th>\n",
       "      <th></th>\n",
       "      <th></th>\n",
       "      <th></th>\n",
       "      <th></th>\n",
       "      <th></th>\n",
       "      <th></th>\n",
       "      <th></th>\n",
       "      <th></th>\n",
       "      <th></th>\n",
       "      <th></th>\n",
       "    </tr>\n",
       "  </thead>\n",
       "  <tbody>\n",
       "    <tr>\n",
       "      <th>1</th>\n",
       "      <td>NATHANIEL FORD</td>\n",
       "      <td>GENERAL MANAGER-METROPOLITAN TRANSIT AUTHORITY</td>\n",
       "      <td>167411.18</td>\n",
       "      <td>0.0</td>\n",
       "      <td>400184.25</td>\n",
       "      <td>NaN</td>\n",
       "      <td>567595.43</td>\n",
       "      <td>567595.43</td>\n",
       "      <td>2011</td>\n",
       "      <td>NaN</td>\n",
       "      <td>San Francisco</td>\n",
       "      <td>NaN</td>\n",
       "    </tr>\n",
       "    <tr>\n",
       "      <th>2</th>\n",
       "      <td>GARY JIMENEZ</td>\n",
       "      <td>CAPTAIN III (POLICE DEPARTMENT)</td>\n",
       "      <td>155966.02</td>\n",
       "      <td>245131.88</td>\n",
       "      <td>137811.38</td>\n",
       "      <td>NaN</td>\n",
       "      <td>538909.28</td>\n",
       "      <td>538909.28</td>\n",
       "      <td>2011</td>\n",
       "      <td>NaN</td>\n",
       "      <td>San Francisco</td>\n",
       "      <td>NaN</td>\n",
       "    </tr>\n",
       "    <tr>\n",
       "      <th>3</th>\n",
       "      <td>ALBERT PARDINI</td>\n",
       "      <td>CAPTAIN III (POLICE DEPARTMENT)</td>\n",
       "      <td>212739.13</td>\n",
       "      <td>106088.18</td>\n",
       "      <td>16452.6</td>\n",
       "      <td>NaN</td>\n",
       "      <td>335279.91</td>\n",
       "      <td>335279.91</td>\n",
       "      <td>2011</td>\n",
       "      <td>NaN</td>\n",
       "      <td>San Francisco</td>\n",
       "      <td>NaN</td>\n",
       "    </tr>\n",
       "    <tr>\n",
       "      <th>4</th>\n",
       "      <td>CHRISTOPHER CHONG</td>\n",
       "      <td>WIRE ROPE CABLE MAINTENANCE MECHANIC</td>\n",
       "      <td>77916.0</td>\n",
       "      <td>56120.71</td>\n",
       "      <td>198306.9</td>\n",
       "      <td>NaN</td>\n",
       "      <td>332343.61</td>\n",
       "      <td>332343.61</td>\n",
       "      <td>2011</td>\n",
       "      <td>NaN</td>\n",
       "      <td>San Francisco</td>\n",
       "      <td>NaN</td>\n",
       "    </tr>\n",
       "    <tr>\n",
       "      <th>5</th>\n",
       "      <td>PATRICK GARDNER</td>\n",
       "      <td>DEPUTY CHIEF OF DEPARTMENT,(FIRE DEPARTMENT)</td>\n",
       "      <td>134401.6</td>\n",
       "      <td>9737.0</td>\n",
       "      <td>182234.59</td>\n",
       "      <td>NaN</td>\n",
       "      <td>326373.19</td>\n",
       "      <td>326373.19</td>\n",
       "      <td>2011</td>\n",
       "      <td>NaN</td>\n",
       "      <td>San Francisco</td>\n",
       "      <td>NaN</td>\n",
       "    </tr>\n",
       "  </tbody>\n",
       "</table>\n",
       "</div>"
      ],
      "text/plain": [
       "         EmployeeName                                        JobTitle  \\\n",
       "Id                                                                      \n",
       "1      NATHANIEL FORD  GENERAL MANAGER-METROPOLITAN TRANSIT AUTHORITY   \n",
       "2        GARY JIMENEZ                 CAPTAIN III (POLICE DEPARTMENT)   \n",
       "3      ALBERT PARDINI                 CAPTAIN III (POLICE DEPARTMENT)   \n",
       "4   CHRISTOPHER CHONG            WIRE ROPE CABLE MAINTENANCE MECHANIC   \n",
       "5     PATRICK GARDNER    DEPUTY CHIEF OF DEPARTMENT,(FIRE DEPARTMENT)   \n",
       "\n",
       "      BasePay OvertimePay   OtherPay Benefits   TotalPay  TotalPayBenefits  \\\n",
       "Id                                                                           \n",
       "1   167411.18         0.0  400184.25      NaN  567595.43         567595.43   \n",
       "2   155966.02   245131.88  137811.38      NaN  538909.28         538909.28   \n",
       "3   212739.13   106088.18    16452.6      NaN  335279.91         335279.91   \n",
       "4     77916.0    56120.71   198306.9      NaN  332343.61         332343.61   \n",
       "5    134401.6      9737.0  182234.59      NaN  326373.19         326373.19   \n",
       "\n",
       "    Year  Notes         Agency Status  \n",
       "Id                                     \n",
       "1   2011    NaN  San Francisco    NaN  \n",
       "2   2011    NaN  San Francisco    NaN  \n",
       "3   2011    NaN  San Francisco    NaN  \n",
       "4   2011    NaN  San Francisco    NaN  \n",
       "5   2011    NaN  San Francisco    NaN  "
      ]
     },
     "execution_count": 9,
     "metadata": {},
     "output_type": "execute_result"
    }
   ],
   "source": [
    "import pandas as pd\n",
    "\n",
    "# To ensure no mixed types either set False, or specify the type with the dtype parameter\n",
    "salaries = pd.read_csv(\"./datasets/salaries.csv\", low_memory=False)\n",
    "\n",
    "# Seting the DataFrame index using Id columns\n",
    "salaries.set_index('Id', inplace=True)\n",
    "\n",
    "salaries.head()"
   ]
  },
  {
   "cell_type": "code",
   "execution_count": 10,
   "metadata": {},
   "outputs": [
    {
     "data": {
      "text/html": [
       "<div>\n",
       "<style scoped>\n",
       "    .dataframe tbody tr th:only-of-type {\n",
       "        vertical-align: middle;\n",
       "    }\n",
       "\n",
       "    .dataframe tbody tr th {\n",
       "        vertical-align: top;\n",
       "    }\n",
       "\n",
       "    .dataframe thead th {\n",
       "        text-align: right;\n",
       "    }\n",
       "</style>\n",
       "<table border=\"1\" class=\"dataframe\">\n",
       "  <thead>\n",
       "    <tr style=\"text-align: right;\">\n",
       "      <th></th>\n",
       "      <th>TotalPay</th>\n",
       "      <th>TotalPayBenefits</th>\n",
       "      <th>Year</th>\n",
       "      <th>Notes</th>\n",
       "    </tr>\n",
       "  </thead>\n",
       "  <tbody>\n",
       "    <tr>\n",
       "      <th>count</th>\n",
       "      <td>148654.000000</td>\n",
       "      <td>148654.000000</td>\n",
       "      <td>148654.000000</td>\n",
       "      <td>0.0</td>\n",
       "    </tr>\n",
       "    <tr>\n",
       "      <th>mean</th>\n",
       "      <td>74768.321972</td>\n",
       "      <td>93692.554811</td>\n",
       "      <td>2012.522643</td>\n",
       "      <td>NaN</td>\n",
       "    </tr>\n",
       "    <tr>\n",
       "      <th>std</th>\n",
       "      <td>50517.005274</td>\n",
       "      <td>62793.533483</td>\n",
       "      <td>1.117538</td>\n",
       "      <td>NaN</td>\n",
       "    </tr>\n",
       "    <tr>\n",
       "      <th>min</th>\n",
       "      <td>-618.130000</td>\n",
       "      <td>-618.130000</td>\n",
       "      <td>2011.000000</td>\n",
       "      <td>NaN</td>\n",
       "    </tr>\n",
       "    <tr>\n",
       "      <th>25%</th>\n",
       "      <td>36168.995000</td>\n",
       "      <td>44065.650000</td>\n",
       "      <td>2012.000000</td>\n",
       "      <td>NaN</td>\n",
       "    </tr>\n",
       "    <tr>\n",
       "      <th>50%</th>\n",
       "      <td>71426.610000</td>\n",
       "      <td>92404.090000</td>\n",
       "      <td>2013.000000</td>\n",
       "      <td>NaN</td>\n",
       "    </tr>\n",
       "    <tr>\n",
       "      <th>75%</th>\n",
       "      <td>105839.135000</td>\n",
       "      <td>132876.450000</td>\n",
       "      <td>2014.000000</td>\n",
       "      <td>NaN</td>\n",
       "    </tr>\n",
       "    <tr>\n",
       "      <th>max</th>\n",
       "      <td>567595.430000</td>\n",
       "      <td>567595.430000</td>\n",
       "      <td>2014.000000</td>\n",
       "      <td>NaN</td>\n",
       "    </tr>\n",
       "  </tbody>\n",
       "</table>\n",
       "</div>"
      ],
      "text/plain": [
       "            TotalPay  TotalPayBenefits           Year  Notes\n",
       "count  148654.000000     148654.000000  148654.000000    0.0\n",
       "mean    74768.321972      93692.554811    2012.522643    NaN\n",
       "std     50517.005274      62793.533483       1.117538    NaN\n",
       "min      -618.130000       -618.130000    2011.000000    NaN\n",
       "25%     36168.995000      44065.650000    2012.000000    NaN\n",
       "50%     71426.610000      92404.090000    2013.000000    NaN\n",
       "75%    105839.135000     132876.450000    2014.000000    NaN\n",
       "max    567595.430000     567595.430000    2014.000000    NaN"
      ]
     },
     "execution_count": 10,
     "metadata": {},
     "output_type": "execute_result"
    }
   ],
   "source": [
    "salaries.describe()"
   ]
  },
  {
   "cell_type": "markdown",
   "metadata": {},
   "source": [
    "I noticed the dataset had numerous years, but I was most interested in the most recent data, so I decided to make a new dataframe of just that data."
   ]
  },
  {
   "cell_type": "code",
   "execution_count": 14,
   "metadata": {},
   "outputs": [
    {
     "data": {
      "text/html": [
       "<div>\n",
       "<style scoped>\n",
       "    .dataframe tbody tr th:only-of-type {\n",
       "        vertical-align: middle;\n",
       "    }\n",
       "\n",
       "    .dataframe tbody tr th {\n",
       "        vertical-align: top;\n",
       "    }\n",
       "\n",
       "    .dataframe thead th {\n",
       "        text-align: right;\n",
       "    }\n",
       "</style>\n",
       "<table border=\"1\" class=\"dataframe\">\n",
       "  <thead>\n",
       "    <tr style=\"text-align: right;\">\n",
       "      <th></th>\n",
       "      <th>TotalPay</th>\n",
       "      <th>TotalPayBenefits</th>\n",
       "      <th>Year</th>\n",
       "      <th>Notes</th>\n",
       "    </tr>\n",
       "  </thead>\n",
       "  <tbody>\n",
       "    <tr>\n",
       "      <th>count</th>\n",
       "      <td>38123.000000</td>\n",
       "      <td>38123.000000</td>\n",
       "      <td>38123.0</td>\n",
       "      <td>0.0</td>\n",
       "    </tr>\n",
       "    <tr>\n",
       "      <th>mean</th>\n",
       "      <td>75463.918140</td>\n",
       "      <td>100250.918884</td>\n",
       "      <td>2014.0</td>\n",
       "      <td>NaN</td>\n",
       "    </tr>\n",
       "    <tr>\n",
       "      <th>std</th>\n",
       "      <td>51697.713029</td>\n",
       "      <td>66238.852887</td>\n",
       "      <td>0.0</td>\n",
       "      <td>NaN</td>\n",
       "    </tr>\n",
       "    <tr>\n",
       "      <th>min</th>\n",
       "      <td>-618.130000</td>\n",
       "      <td>-618.130000</td>\n",
       "      <td>2014.0</td>\n",
       "      <td>NaN</td>\n",
       "    </tr>\n",
       "    <tr>\n",
       "      <th>25%</th>\n",
       "      <td>33436.210000</td>\n",
       "      <td>44199.990000</td>\n",
       "      <td>2014.0</td>\n",
       "      <td>NaN</td>\n",
       "    </tr>\n",
       "    <tr>\n",
       "      <th>50%</th>\n",
       "      <td>72359.980000</td>\n",
       "      <td>101105.370000</td>\n",
       "      <td>2014.0</td>\n",
       "      <td>NaN</td>\n",
       "    </tr>\n",
       "    <tr>\n",
       "      <th>75%</th>\n",
       "      <td>107974.445000</td>\n",
       "      <td>142746.950000</td>\n",
       "      <td>2014.0</td>\n",
       "      <td>NaN</td>\n",
       "    </tr>\n",
       "    <tr>\n",
       "      <th>max</th>\n",
       "      <td>471952.640000</td>\n",
       "      <td>510732.680000</td>\n",
       "      <td>2014.0</td>\n",
       "      <td>NaN</td>\n",
       "    </tr>\n",
       "  </tbody>\n",
       "</table>\n",
       "</div>"
      ],
      "text/plain": [
       "            TotalPay  TotalPayBenefits     Year  Notes\n",
       "count   38123.000000      38123.000000  38123.0    0.0\n",
       "mean    75463.918140     100250.918884   2014.0    NaN\n",
       "std     51697.713029      66238.852887      0.0    NaN\n",
       "min      -618.130000       -618.130000   2014.0    NaN\n",
       "25%     33436.210000      44199.990000   2014.0    NaN\n",
       "50%     72359.980000     101105.370000   2014.0    NaN\n",
       "75%    107974.445000     142746.950000   2014.0    NaN\n",
       "max    471952.640000     510732.680000   2014.0    NaN"
      ]
     },
     "execution_count": 14,
     "metadata": {},
     "output_type": "execute_result"
    }
   ],
   "source": [
    "# The new DataFrame for data in 2014\n",
    "latest_salaries = salaries[salaries['Year'] == 2014]\n",
    "\n",
    "latest_salaries.describe()"
   ]
  },
  {
   "cell_type": "markdown",
   "metadata": {},
   "source": [
    "I looked up the average yearly rental cost from the latest reports on Priceonomics. The median apartment for rent in San Francisco is $3,880 per month for a single-income household with no children in a one-bedroom apartment.\n",
    "\n",
    "I wanted to know what percentage of their income the average city employee was paying for rent."
   ]
  },
  {
   "cell_type": "code",
   "execution_count": 21,
   "metadata": {},
   "outputs": [
    {
     "name": "stdout",
     "output_type": "stream",
     "text": [
      "61.698360%\n"
     ]
    }
   ],
   "source": [
    "# Average money for appartment rent in one year\n",
    "average_yearly_rent = 3880 * 12\n",
    "\n",
    "# Average income of the city in the year 2014\n",
    "average_city_pay = latest_salaries['TotalPay'].mean()\n",
    "\n",
    "# Percentage of the rent above the income\n",
    "percentage = average_yearly_rent/average_city_pay * 100\n",
    "\n",
    "print('%f%%' % percentage)\n"
   ]
  },
  {
   "cell_type": "markdown",
   "metadata": {},
   "source": [
    "How many city employees make below the average one-bedroom rent per year?"
   ]
  },
  {
   "cell_type": "code",
   "execution_count": 24,
   "metadata": {},
   "outputs": [
    {
     "data": {
      "text/plain": [
       "11360"
      ]
     },
     "execution_count": 24,
     "metadata": {},
     "output_type": "execute_result"
    }
   ],
   "source": [
    "# Computing the number of employees who have the income below than the average one-bedroom rent per year\n",
    "latest_salaries[latest_salaries['TotalPay'] < average_yearly_rent].shape[0]"
   ]
  },
  {
   "cell_type": "markdown",
   "metadata": {},
   "source": [
    "I also noticed ‘TotalPay’ is a combination of ‘BasePay’ and ‘OvertimePay’. I wondered how many city employee’s *needed* to work overtime to afford to live.\n",
    "\n",
    "Since the ‘BasePay’ column didn’t properly import as a number, we must do some conversion first.\n",
    "\n",
    "After converting, I took a rough guess if you spend 70% of your income on rent, you can’t afford to live there. "
   ]
  },
  {
   "cell_type": "code",
   "execution_count": 27,
   "metadata": {},
   "outputs": [
    {
     "data": {
      "text/plain": [
       "count     38119.000000\n",
       "mean      66564.421924\n",
       "std       44053.783972\n",
       "min           0.000000\n",
       "25%       30138.055000\n",
       "50%       65055.000000\n",
       "75%       94735.050000\n",
       "max      318835.490000\n",
       "Name: BasePay, dtype: float64"
      ]
     },
     "execution_count": 27,
     "metadata": {},
     "output_type": "execute_result"
    }
   ],
   "source": [
    "pd.to_numeric(latest_salaries['BasePay'], errors='coerce').describe()"
   ]
  },
  {
   "cell_type": "code",
   "execution_count": 31,
   "metadata": {},
   "outputs": [
    {
     "data": {
      "text/plain": [
       "(20074,)"
      ]
     },
     "execution_count": 31,
     "metadata": {},
     "output_type": "execute_result"
    }
   ],
   "source": [
    "# Get the column of BasePay and make sure the elements in the columns are numerical\n",
    "base_pay_series = pd.to_numeric(latest_salaries['BasePay'], errors='coerce')\n",
    "\n",
    "# Compute the number of employees that have to spend more than 70% their income on rent\n",
    "base_pay_series[base_pay_series * 0.7 < average_yearly_rent].shape\n"
   ]
  },
  {
   "cell_type": "markdown",
   "metadata": {},
   "source": [
    "I wanted to see how many city employees were working more than $1K overtime annually."
   ]
  },
  {
   "cell_type": "code",
   "execution_count": 32,
   "metadata": {},
   "outputs": [
    {
     "data": {
      "text/plain": [
       "(15361,)"
      ]
     },
     "execution_count": 32,
     "metadata": {},
     "output_type": "execute_result"
    }
   ],
   "source": [
    "overtime_series = pd.to_numeric(latest_salaries['OvertimePay'], errors='coerce')\n",
    "\n",
    "overtime_series[overtime_series > 1000].shape"
   ]
  },
  {
   "cell_type": "markdown",
   "metadata": {},
   "source": [
    "I want to explore which types of employees make more or less money"
   ]
  },
  {
   "cell_type": "code",
   "execution_count": 59,
   "metadata": {},
   "outputs": [
    {
     "name": "stdout",
     "output_type": "stream",
     "text": [
      "('Number of employees whose income aboves the average', 17978)\n",
      "('Number of employees whose income belows the average', 20145)\n",
      "('Job Title above', ModeResult(mode=array(['Registered Nurse'], dtype=object), count=array([1065])))\n",
      "('Job Title below', ModeResult(mode=array(['Transit Operator'], dtype=object), count=array([1485])))\n",
      "Registered Nurse                  1065\n",
      "Transit Operator                   994\n",
      "Firefighter                        748\n",
      "Police Officer 3                   714\n",
      "Deputy Sheriff                     586\n",
      "Police Officer                     411\n",
      "Sergeant 3                         363\n",
      "Attorney (Civil/Criminal)          337\n",
      "Police Officer 2                   323\n",
      "EMT/Paramedic/Firefighter          259\n",
      "Transit Supervisor                 199\n",
      "Special Nurse                      193\n",
      "Electrical Transit System Mech     191\n",
      "Lieutenant, Fire Suppression       190\n",
      "Protective Services Worker         171\n",
      "Assoc Engineer                     170\n",
      "Stationary Engineer                168\n",
      "Senior Administrative Analyst      159\n",
      "HSA Sr Eligibility Worker          157\n",
      "Pr Administrative Analyst          151\n",
      "Engineer                           145\n",
      "Nurse Practitioner                 139\n",
      "Electronic Maintenance Tech        138\n",
      "Manager II                         129\n",
      "Public SafetyComm Disp             124\n",
      "Asst Engr                          122\n",
      "Manager III                        121\n",
      "Stationary Eng, Sewage Plant       120\n",
      "Automotive Mechanic                119\n",
      "Manager I                          113\n",
      "                                  ... \n",
      "Traf Signal Electrician Sup II       1\n",
      "Legislative Clerk                    1\n",
      "Chief Housing Inspector              1\n",
      "Carpenter Supervisor 2               1\n",
      "Controller                           1\n",
      "Sheet Metal Wrk Supervisor 2         1\n",
      "Law Librarian                        1\n",
      "Senior Clerk                         1\n",
      "Ex Asst to the Controller            1\n",
      "Depty Sealer of Weights & Meas       1\n",
      "Employee Assistance Counselor        1\n",
      "Pr Investigator, Tax Collector       1\n",
      "Sctry, Bldg Inspection Comm          1\n",
      "Soft Floor Coverer Supvr I           1\n",
      "Chief Electrical Inspector           1\n",
      "Librarian 2 - Asian Arts             1\n",
      "Airport Communications Officer       1\n",
      "Telecommunications Tech Supv         1\n",
      "Industrial Engineer                  1\n",
      "Director, Juvenile Hall              1\n",
      "Board Scty, MTA                      1\n",
      "Chief Forensic Toxicologist          1\n",
      "Inspector 2                          1\n",
      "DA Investigative Assist              1\n",
      "Water Const&Main Supt                1\n",
      "Acupuncturist                        1\n",
      "Chief Adult Probation Officer        1\n",
      "Senior Social Worker                 1\n",
      "Chief of Police                      1\n",
      "Assistant Deputy Chief 2             1\n",
      "Name: JobTitle, Length: 772, dtype: int64\n",
      "Transit Operator                  1485\n",
      "Special Nurse                     1285\n",
      "Public Svc Aide-Public Works       916\n",
      "Custodian                          801\n",
      "Recreation Leader                  690\n",
      "Patient Care Assistant             558\n",
      "Public Service Trainee             494\n",
      "Porter                             359\n",
      "General Laborer                    320\n",
      "Senior Clerk                       313\n",
      "HSA Sr Eligibility Worker          310\n",
      "Gardener                           276\n",
      "Clerk                              266\n",
      "Parking Control Officer            263\n",
      "Library Page                       232\n",
      "Junior Clerk                       229\n",
      "Senior Clerk Typist                218\n",
      "Publ Svc Aide-Asst to Prof         218\n",
      "PS Aide to Prof                    210\n",
      "Medical Evaluations Assistant      205\n",
      "School Crossing Guard              198\n",
      "Museum Guard                       193\n",
      "Food Service Worker                190\n",
      "Community Police Services Aide     170\n",
      "Registered Nurse                   169\n",
      "StdntDsgnTrain1, Arch/Eng/Plng     163\n",
      "Senior Account Clerk               154\n",
      "Pool Lifeguard                     149\n",
      "Health Worker 3                    148\n",
      "Health Worker 2                    146\n",
      "                                  ... \n",
      "Asst Chf Dist Atty's Invstgtor       1\n",
      "Sctry, Human Svcs. Commission        1\n",
      "Asst Materials Coordinator           1\n",
      "Chief Stationary Engineer            1\n",
      "Plumber Supervisor 1                 1\n",
      "Mental Hlth Treatment Spec           1\n",
      "PrDAInvest,SpecUnit (SFERS)          1\n",
      "Safety Officer                       1\n",
      "Pr Personal Property Auditor         1\n",
      "Sprv Adult Probation Ofc             1\n",
      "Rep, Comm Status of Women            1\n",
      "Patient Accounts Manager             1\n",
      "Fingerprint Technician 3             1\n",
      "Emergency Services Coord I           1\n",
      "Dept Head II                         1\n",
      "Shelter Officer Supervisor           1\n",
      "Criminal Justice Specialist 2        1\n",
      "Marina Assistant Manager             1\n",
      "Auditor III                          1\n",
      "AprntcStatnry Eng,WtrTreatPlnt       1\n",
      "Special Assistant 22                 1\n",
      "Wastewater Control Inspector         1\n",
      "Shade and Drapery Worker             1\n",
      "Senior Estate Investigator           1\n",
      "Senior Comm Systems Technican        1\n",
      "Senior Book Repairer                 1\n",
      "Transit Power Line Worker            1\n",
      "Assistant Counselor                  1\n",
      "Animal Care Asst Supv                1\n",
      "Senior Industrial Hygienist          1\n",
      "Name: JobTitle, Length: 715, dtype: int64\n"
     ]
    }
   ],
   "source": [
    "# Using scipy's mode function which ignores NaN values\n",
    "from scipy.stats import mode\n",
    "\n",
    "# Average income of employees\n",
    "average_totalpay = latest_salaries['TotalPay'].mean()\n",
    "\n",
    "# Create DataFrame for employees whose TotalPay above/below than Average TotalPay\n",
    "above_average = latest_salaries[latest_salaries['TotalPay'] > average_totalpay]\n",
    "below_average = latest_salaries[latest_salaries['TotalPay'] < average_totalpay]\n",
    "\n",
    "# Print the number of employees whose TotalPay above/below than Average TotalPay\n",
    "print('Number of employees whose income aboves the average', above_average.shape[0])\n",
    "print('Number of employees whose income belows the average', below_average.shape[0])\n",
    "\n",
    "# Get the number of the most frequent job in two cases\n",
    "print('Job Title above', mode(above_average['JobTitle']))\n",
    "print('Job Title below', mode(below_average['JobTitle']))\n",
    "\n",
    "# Get the frequency of job titles in two cases\n",
    "print(above_average['JobTitle'].value_counts())\n",
    "print(below_average['JobTitle'].value_counts())"
   ]
  },
  {
   "cell_type": "markdown",
   "metadata": {},
   "source": [
    "I want to check whether employees are getting normal pay raises and promotions through the year 2011 to 2014. I assumed that in DataFrame salaries, the rows with the same value of \"EmployeeName\" and \"JobTitle\" indicate the same person. I have chosen a specific person and check his promotions from 2011 to 2014. "
   ]
  },
  {
   "cell_type": "code",
   "execution_count": 96,
   "metadata": {},
   "outputs": [
    {
     "name": "stdout",
     "output_type": "stream",
     "text": [
      "Kevin Lee       13\n",
      "William Wong    11\n",
      "Richard Lee     11\n",
      "Steven Lee      11\n",
      "Michael Wong     9\n",
      "Name: EmployeeName, dtype: int64\n"
     ]
    },
    {
     "data": {
      "text/html": [
       "<div>\n",
       "<style scoped>\n",
       "    .dataframe tbody tr th:only-of-type {\n",
       "        vertical-align: middle;\n",
       "    }\n",
       "\n",
       "    .dataframe tbody tr th {\n",
       "        vertical-align: top;\n",
       "    }\n",
       "\n",
       "    .dataframe thead th {\n",
       "        text-align: right;\n",
       "    }\n",
       "</style>\n",
       "<table border=\"1\" class=\"dataframe\">\n",
       "  <thead>\n",
       "    <tr style=\"text-align: right;\">\n",
       "      <th></th>\n",
       "      <th>EmployeeName</th>\n",
       "      <th>JobTitle</th>\n",
       "    </tr>\n",
       "    <tr>\n",
       "      <th>Id</th>\n",
       "      <th></th>\n",
       "      <th></th>\n",
       "    </tr>\n",
       "  </thead>\n",
       "  <tbody>\n",
       "    <tr>\n",
       "      <th>39716</th>\n",
       "      <td>Kevin Lee</td>\n",
       "      <td>Police Officer 3</td>\n",
       "    </tr>\n",
       "    <tr>\n",
       "      <th>40571</th>\n",
       "      <td>Kevin Lee</td>\n",
       "      <td>Police Officer 3</td>\n",
       "    </tr>\n",
       "    <tr>\n",
       "      <th>42511</th>\n",
       "      <td>Kevin Lee</td>\n",
       "      <td>Electrical Transit System Mech</td>\n",
       "    </tr>\n",
       "    <tr>\n",
       "      <th>49271</th>\n",
       "      <td>Kevin Lee</td>\n",
       "      <td>Deputy Court Clerk III</td>\n",
       "    </tr>\n",
       "    <tr>\n",
       "      <th>49440</th>\n",
       "      <td>Kevin Lee</td>\n",
       "      <td>Deputy Court Clerk III</td>\n",
       "    </tr>\n",
       "    <tr>\n",
       "      <th>50124</th>\n",
       "      <td>Kevin Lee</td>\n",
       "      <td>Personnel Analyst</td>\n",
       "    </tr>\n",
       "    <tr>\n",
       "      <th>52234</th>\n",
       "      <td>Kevin Lee</td>\n",
       "      <td>Senior Parking Control Officer</td>\n",
       "    </tr>\n",
       "    <tr>\n",
       "      <th>53932</th>\n",
       "      <td>Kevin Lee</td>\n",
       "      <td>Transit Operator</td>\n",
       "    </tr>\n",
       "    <tr>\n",
       "      <th>55120</th>\n",
       "      <td>Kevin Lee</td>\n",
       "      <td>IS Administrator 2</td>\n",
       "    </tr>\n",
       "    <tr>\n",
       "      <th>112386</th>\n",
       "      <td>Kevin Lee</td>\n",
       "      <td>Sergeant 3</td>\n",
       "    </tr>\n",
       "    <tr>\n",
       "      <th>123142</th>\n",
       "      <td>Kevin Lee</td>\n",
       "      <td>IT Operations Support Admin IV</td>\n",
       "    </tr>\n",
       "    <tr>\n",
       "      <th>124166</th>\n",
       "      <td>Kevin Lee</td>\n",
       "      <td>Personnel Analyst</td>\n",
       "    </tr>\n",
       "    <tr>\n",
       "      <th>124659</th>\n",
       "      <td>Kevin Lee</td>\n",
       "      <td>Transit Operator</td>\n",
       "    </tr>\n",
       "  </tbody>\n",
       "</table>\n",
       "</div>"
      ],
      "text/plain": [
       "       EmployeeName                        JobTitle\n",
       "Id                                                 \n",
       "39716     Kevin Lee                Police Officer 3\n",
       "40571     Kevin Lee                Police Officer 3\n",
       "42511     Kevin Lee  Electrical Transit System Mech\n",
       "49271     Kevin Lee          Deputy Court Clerk III\n",
       "49440     Kevin Lee          Deputy Court Clerk III\n",
       "50124     Kevin Lee               Personnel Analyst\n",
       "52234     Kevin Lee  Senior Parking Control Officer\n",
       "53932     Kevin Lee                Transit Operator\n",
       "55120     Kevin Lee              IS Administrator 2\n",
       "112386    Kevin Lee                      Sergeant 3\n",
       "123142    Kevin Lee  IT Operations Support Admin IV\n",
       "124166    Kevin Lee               Personnel Analyst\n",
       "124659    Kevin Lee                Transit Operator"
      ]
     },
     "execution_count": 96,
     "metadata": {},
     "output_type": "execute_result"
    }
   ],
   "source": [
    "# Having a look at the employee name\n",
    "print(salaries['EmployeeName'].value_counts().head())\n",
    "\n",
    "# Choose the guy named 'Kevin Lee'\n",
    "random_employee = salaries[salaries['EmployeeName'] == 'Kevin Lee']\n",
    "\n",
    "# Have a look at the JobTiles go with 'Kevin Lee'\n",
    "random_employee[['EmployeeName', 'JobTitle']]"
   ]
  },
  {
   "cell_type": "code",
   "execution_count": 129,
   "metadata": {},
   "outputs": [
    {
     "name": "stdout",
     "output_type": "stream",
     "text": [
      "118.868647%\n"
     ]
    }
   ],
   "source": [
    "# Choose the guy 'Kevin Lee' who is a 'Transit Operator'\n",
    "kevin = random_employee[random_employee['JobTitle'] == 'Transit Operator']\n",
    "\n",
    "# Compute the percentage of Kevin's promotion\n",
    "promotion_percentage = kevin[kevin['Year']==2014]['TotalPay'].values/kevin[kevin['Year']==2012]['TotalPay'].values\n",
    "print('%f%%' % (promotion_percentage*100))"
   ]
  },
  {
   "cell_type": "markdown",
   "metadata": {},
   "source": [
    "We could also do more research to determine whether the average family household in San Francisco has two incomes and what those are, as well as how many bedrooms the average family in San Francisco has. We could figure out more average pay wages in San Francisco (how much do teachers make? Cab drivers? What about manual labor? Restaurant staff?). We could also map the dataset against the Priceonomics data to show what neighborhoods the average city employee can afford and how much longer their commute is due to the rent increases. We could calculate more about the cost of living using many sites tracking average cost of living, and build a salary converter to show how much you would need to make in San Francisco to support your quality of life. "
   ]
  },
  {
   "cell_type": "markdown",
   "metadata": {},
   "source": [
    "References: http://dataconomy.com/2016/10/big-data-python/"
   ]
  }
 ],
 "metadata": {
  "kernelspec": {
   "display_name": "Python 2",
   "language": "python",
   "name": "python2"
  },
  "language_info": {
   "codemirror_mode": {
    "name": "ipython",
    "version": 2
   },
   "file_extension": ".py",
   "mimetype": "text/x-python",
   "name": "python",
   "nbconvert_exporter": "python",
   "pygments_lexer": "ipython2",
   "version": "2.7.12"
  }
 },
 "nbformat": 4,
 "nbformat_minor": 2
}
